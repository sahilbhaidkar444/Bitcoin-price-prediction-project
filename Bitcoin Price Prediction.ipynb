{
 "cells": [
  {
   "cell_type": "code",
   "execution_count": 1,
   "id": "f3fc6273",
   "metadata": {},
   "outputs": [],
   "source": [
    "import numpy as np\n",
    "import pandas as pd\n",
    "import matplotlib.pyplot as plt\n",
    "import pandas_datareader as web\n",
    "import datetime as dt"
   ]
  },
  {
   "cell_type": "code",
   "execution_count": 2,
   "id": "4871d7b8",
   "metadata": {},
   "outputs": [],
   "source": [
    "from sklearn.preprocessing import MinMaxScaler\n",
    "from tensorflow.keras.layers import Dense,Dropout,LSTM\n",
    "from tensorflow.keras.models import Sequential"
   ]
  },
  {
   "cell_type": "code",
   "execution_count": 3,
   "id": "ff2dc140",
   "metadata": {},
   "outputs": [],
   "source": [
    "crypto = 'BTC'"
   ]
  },
  {
   "cell_type": "code",
   "execution_count": 4,
   "id": "402ecda9",
   "metadata": {},
   "outputs": [],
   "source": [
    "against = 'INR'"
   ]
  },
  {
   "cell_type": "code",
   "execution_count": 5,
   "id": "0bcf79e2",
   "metadata": {},
   "outputs": [],
   "source": [
    "start = dt.datetime(2016,1,1)\n",
    "end = dt.datetime.now()"
   ]
  },
  {
   "cell_type": "code",
   "execution_count": 6,
   "id": "eb00c741",
   "metadata": {},
   "outputs": [
    {
     "data": {
      "text/plain": [
       "datetime.datetime(2016, 1, 1, 0, 0)"
      ]
     },
     "execution_count": 6,
     "metadata": {},
     "output_type": "execute_result"
    }
   ],
   "source": [
    "start"
   ]
  },
  {
   "cell_type": "code",
   "execution_count": 7,
   "id": "6d825105",
   "metadata": {},
   "outputs": [
    {
     "data": {
      "text/plain": [
       "datetime.datetime(2022, 7, 18, 18, 56, 32, 632963)"
      ]
     },
     "execution_count": 7,
     "metadata": {},
     "output_type": "execute_result"
    }
   ],
   "source": [
    "end"
   ]
  },
  {
   "cell_type": "code",
   "execution_count": 8,
   "id": "50aa0b78",
   "metadata": {},
   "outputs": [],
   "source": [
    "data = web.DataReader(f'{crypto}-{against}','yahoo',start,end)"
   ]
  },
  {
   "cell_type": "code",
   "execution_count": 9,
   "id": "1e8d81e9",
   "metadata": {},
   "outputs": [
    {
     "data": {
      "text/html": [
       "<div>\n",
       "<style scoped>\n",
       "    .dataframe tbody tr th:only-of-type {\n",
       "        vertical-align: middle;\n",
       "    }\n",
       "\n",
       "    .dataframe tbody tr th {\n",
       "        vertical-align: top;\n",
       "    }\n",
       "\n",
       "    .dataframe thead th {\n",
       "        text-align: right;\n",
       "    }\n",
       "</style>\n",
       "<table border=\"1\" class=\"dataframe\">\n",
       "  <thead>\n",
       "    <tr style=\"text-align: right;\">\n",
       "      <th></th>\n",
       "      <th>High</th>\n",
       "      <th>Low</th>\n",
       "      <th>Open</th>\n",
       "      <th>Close</th>\n",
       "      <th>Volume</th>\n",
       "      <th>Adj Close</th>\n",
       "    </tr>\n",
       "    <tr>\n",
       "      <th>Date</th>\n",
       "      <th></th>\n",
       "      <th></th>\n",
       "      <th></th>\n",
       "      <th></th>\n",
       "      <th></th>\n",
       "      <th></th>\n",
       "    </tr>\n",
       "  </thead>\n",
       "  <tbody>\n",
       "    <tr>\n",
       "      <th>2015-12-31</th>\n",
       "      <td>28659.066406</td>\n",
       "      <td>27719.962891</td>\n",
       "      <td>28300.330078</td>\n",
       "      <td>28503.232422</td>\n",
       "      <td>3044942722</td>\n",
       "      <td>28503.232422</td>\n",
       "    </tr>\n",
       "    <tr>\n",
       "      <th>2016-01-01</th>\n",
       "      <td>28864.216797</td>\n",
       "      <td>28273.705078</td>\n",
       "      <td>28513.429688</td>\n",
       "      <td>28763.769531</td>\n",
       "      <td>2402570153</td>\n",
       "      <td>28763.769531</td>\n",
       "    </tr>\n",
       "    <tr>\n",
       "      <th>2016-01-02</th>\n",
       "      <td>28878.207031</td>\n",
       "      <td>28600.589844</td>\n",
       "      <td>28782.841797</td>\n",
       "      <td>28704.431641</td>\n",
       "      <td>1993147335</td>\n",
       "      <td>28704.431641</td>\n",
       "    </tr>\n",
       "    <tr>\n",
       "      <th>2016-01-03</th>\n",
       "      <td>28724.630859</td>\n",
       "      <td>28096.636719</td>\n",
       "      <td>28713.703125</td>\n",
       "      <td>28467.287109</td>\n",
       "      <td>2623809084</td>\n",
       "      <td>28467.287109</td>\n",
       "    </tr>\n",
       "    <tr>\n",
       "      <th>2016-01-04</th>\n",
       "      <td>28897.769531</td>\n",
       "      <td>28404.460938</td>\n",
       "      <td>28470.597656</td>\n",
       "      <td>28842.994141</td>\n",
       "      <td>2562524545</td>\n",
       "      <td>28842.994141</td>\n",
       "    </tr>\n",
       "  </tbody>\n",
       "</table>\n",
       "</div>"
      ],
      "text/plain": [
       "                    High           Low          Open         Close  \\\n",
       "Date                                                                 \n",
       "2015-12-31  28659.066406  27719.962891  28300.330078  28503.232422   \n",
       "2016-01-01  28864.216797  28273.705078  28513.429688  28763.769531   \n",
       "2016-01-02  28878.207031  28600.589844  28782.841797  28704.431641   \n",
       "2016-01-03  28724.630859  28096.636719  28713.703125  28467.287109   \n",
       "2016-01-04  28897.769531  28404.460938  28470.597656  28842.994141   \n",
       "\n",
       "                Volume     Adj Close  \n",
       "Date                                  \n",
       "2015-12-31  3044942722  28503.232422  \n",
       "2016-01-01  2402570153  28763.769531  \n",
       "2016-01-02  1993147335  28704.431641  \n",
       "2016-01-03  2623809084  28467.287109  \n",
       "2016-01-04  2562524545  28842.994141  "
      ]
     },
     "execution_count": 9,
     "metadata": {},
     "output_type": "execute_result"
    }
   ],
   "source": [
    "data.head()"
   ]
  },
  {
   "cell_type": "markdown",
   "id": "6f57ffe8",
   "metadata": {},
   "source": [
    "# Prepare data :"
   ]
  },
  {
   "cell_type": "code",
   "execution_count": 10,
   "id": "f7cea21b",
   "metadata": {},
   "outputs": [],
   "source": [
    "scaler = MinMaxScaler(feature_range=(0,1))"
   ]
  },
  {
   "cell_type": "code",
   "execution_count": 11,
   "id": "3a02a8d9",
   "metadata": {},
   "outputs": [],
   "source": [
    "scaled_data = scaler.fit_transform(data['Close'].values.reshape(-1,1))"
   ]
  },
  {
   "cell_type": "code",
   "execution_count": 12,
   "id": "b6024a8d",
   "metadata": {},
   "outputs": [],
   "source": [
    "pred_days = 60"
   ]
  },
  {
   "cell_type": "code",
   "execution_count": 13,
   "id": "e02b2cb3",
   "metadata": {},
   "outputs": [],
   "source": [
    "x_train, y_train = [],[]"
   ]
  },
  {
   "cell_type": "code",
   "execution_count": 14,
   "id": "2c267284",
   "metadata": {},
   "outputs": [],
   "source": [
    "for x in range(pred_days, len(scaled_data)):\n",
    "    x_train.append(scaled_data[x-pred_days:x, 0])\n",
    "    y_train.append(scaled_data[x, 0])"
   ]
  },
  {
   "cell_type": "code",
   "execution_count": 15,
   "id": "0e489f5f",
   "metadata": {},
   "outputs": [],
   "source": [
    "x_train, y_train = np.array(x_train),np.array(y_train)"
   ]
  },
  {
   "cell_type": "code",
   "execution_count": 16,
   "id": "8f4764cd",
   "metadata": {},
   "outputs": [],
   "source": [
    "x_train = np.reshape(x_train,(x_train.shape[0],x_train.shape[1],1))"
   ]
  },
  {
   "cell_type": "markdown",
   "id": "bea1ec44",
   "metadata": {},
   "source": [
    "# Create Neural Network :"
   ]
  },
  {
   "cell_type": "code",
   "execution_count": 17,
   "id": "9b9e93e1",
   "metadata": {},
   "outputs": [],
   "source": [
    "model = Sequential()"
   ]
  },
  {
   "cell_type": "code",
   "execution_count": 18,
   "id": "4ea93969",
   "metadata": {},
   "outputs": [],
   "source": [
    "model.add(LSTM(units=50, return_sequences=True, input_shape=(x_train.shape[1],1)))\n",
    "model.add(Dropout(0.2))\n",
    "model.add(LSTM(units=50, return_sequences=True))\n",
    "model.add(Dropout(0.2))\n",
    "model.add(LSTM(units=50))\n",
    "model.add(Dropout(0.2))\n",
    "model.add(Dense(units=1))"
   ]
  },
  {
   "cell_type": "code",
   "execution_count": 19,
   "id": "1dbe9519",
   "metadata": {},
   "outputs": [],
   "source": [
    "model.compile(optimizer='adam',loss = 'mean_squared_error')"
   ]
  },
  {
   "cell_type": "code",
   "execution_count": 20,
   "id": "8c4d982c",
   "metadata": {},
   "outputs": [
    {
     "name": "stdout",
     "output_type": "stream",
     "text": [
      "Epoch 1/25\n",
      "73/73 [==============================] - 10s 64ms/step - loss: 0.0094\n",
      "Epoch 2/25\n",
      "73/73 [==============================] - 5s 69ms/step - loss: 0.0028\n",
      "Epoch 3/25\n",
      "73/73 [==============================] - 5s 63ms/step - loss: 0.0029\n",
      "Epoch 4/25\n",
      "73/73 [==============================] - 5s 64ms/step - loss: 0.0025\n",
      "Epoch 5/25\n",
      "73/73 [==============================] - 5s 64ms/step - loss: 0.0024\n",
      "Epoch 6/25\n",
      "73/73 [==============================] - 5s 62ms/step - loss: 0.0022\n",
      "Epoch 7/25\n",
      "73/73 [==============================] - 5s 63ms/step - loss: 0.0019\n",
      "Epoch 8/25\n",
      "73/73 [==============================] - 5s 63ms/step - loss: 0.0021\n",
      "Epoch 9/25\n",
      "73/73 [==============================] - 5s 67ms/step - loss: 0.0019\n",
      "Epoch 10/25\n",
      "73/73 [==============================] - 5s 69ms/step - loss: 0.0018\n",
      "Epoch 11/25\n",
      "73/73 [==============================] - 5s 66ms/step - loss: 0.0018\n",
      "Epoch 12/25\n",
      "73/73 [==============================] - 5s 64ms/step - loss: 0.0015\n",
      "Epoch 13/25\n",
      "73/73 [==============================] - 5s 69ms/step - loss: 0.0019\n",
      "Epoch 14/25\n",
      "73/73 [==============================] - 5s 67ms/step - loss: 0.0017\n",
      "Epoch 15/25\n",
      "73/73 [==============================] - 7s 89ms/step - loss: 0.0015\n",
      "Epoch 16/25\n",
      "73/73 [==============================] - 8s 109ms/step - loss: 0.0016\n",
      "Epoch 17/25\n",
      "73/73 [==============================] - 5s 70ms/step - loss: 0.0015\n",
      "Epoch 18/25\n",
      "73/73 [==============================] - 5s 64ms/step - loss: 0.0014\n",
      "Epoch 19/25\n",
      "73/73 [==============================] - 5s 67ms/step - loss: 0.0012\n",
      "Epoch 20/25\n",
      "73/73 [==============================] - 5s 66ms/step - loss: 0.0012\n",
      "Epoch 21/25\n",
      "73/73 [==============================] - 5s 66ms/step - loss: 0.0011\n",
      "Epoch 22/25\n",
      "73/73 [==============================] - 5s 66ms/step - loss: 0.0012\n",
      "Epoch 23/25\n",
      "73/73 [==============================] - 5s 67ms/step - loss: 0.0012\n",
      "Epoch 24/25\n",
      "73/73 [==============================] - 5s 67ms/step - loss: 0.0012\n",
      "Epoch 25/25\n",
      "73/73 [==============================] - 5s 65ms/step - loss: 0.0011\n"
     ]
    },
    {
     "data": {
      "text/plain": [
       "<keras.callbacks.History at 0x21de821fa90>"
      ]
     },
     "execution_count": 20,
     "metadata": {},
     "output_type": "execute_result"
    }
   ],
   "source": [
    "model.fit(x_train,y_train,epochs=25,batch_size=32)"
   ]
  },
  {
   "cell_type": "markdown",
   "id": "7a6c5d90",
   "metadata": {},
   "source": [
    "# Testing the model:"
   ]
  },
  {
   "cell_type": "code",
   "execution_count": 21,
   "id": "fae290a8",
   "metadata": {},
   "outputs": [],
   "source": [
    "test_start = dt.datetime(2020,1,1)"
   ]
  },
  {
   "cell_type": "code",
   "execution_count": 22,
   "id": "a45919cb",
   "metadata": {},
   "outputs": [],
   "source": [
    "test_end = dt.datetime.now()"
   ]
  },
  {
   "cell_type": "code",
   "execution_count": 23,
   "id": "492b1eaa",
   "metadata": {},
   "outputs": [],
   "source": [
    "test_data = web.DataReader(f'{crypto}-{against}','yahoo',test_start,test_end)"
   ]
  },
  {
   "cell_type": "code",
   "execution_count": 24,
   "id": "cf7b7657",
   "metadata": {},
   "outputs": [],
   "source": [
    "actual_price = test_data['Close'].values"
   ]
  },
  {
   "cell_type": "code",
   "execution_count": 25,
   "id": "0c1facb8",
   "metadata": {},
   "outputs": [],
   "source": [
    "total_dataset = pd.concat((data['Close'], test_data['Close']),axis=0)"
   ]
  },
  {
   "cell_type": "code",
   "execution_count": 26,
   "id": "40c35d35",
   "metadata": {},
   "outputs": [],
   "source": [
    "model_inputs = total_dataset[len(total_dataset)- len(test_data)- pred_days:].values"
   ]
  },
  {
   "cell_type": "code",
   "execution_count": 27,
   "id": "b3ee4bfb",
   "metadata": {},
   "outputs": [],
   "source": [
    "model_inputs = model_inputs.reshape(-1,1)"
   ]
  },
  {
   "cell_type": "code",
   "execution_count": 28,
   "id": "c44abe75",
   "metadata": {},
   "outputs": [],
   "source": [
    "model_inputs = scaler.fit_transform(model_inputs)"
   ]
  },
  {
   "cell_type": "code",
   "execution_count": 29,
   "id": "3c7b8769",
   "metadata": {},
   "outputs": [],
   "source": [
    "x_test = []"
   ]
  },
  {
   "cell_type": "code",
   "execution_count": 30,
   "id": "4e08b40d",
   "metadata": {},
   "outputs": [],
   "source": [
    "for x in range(pred_days, len(model_inputs)):\n",
    "    x_test.append(model_inputs[x-pred_days:x, 0])"
   ]
  },
  {
   "cell_type": "code",
   "execution_count": 31,
   "id": "0c265081",
   "metadata": {},
   "outputs": [],
   "source": [
    "x_test=np.array(x_test)"
   ]
  },
  {
   "cell_type": "code",
   "execution_count": 32,
   "id": "11427363",
   "metadata": {},
   "outputs": [],
   "source": [
    "x_test = np.reshape(x_test, (x_test.shape[0], x_test.shape[1], 1))"
   ]
  },
  {
   "cell_type": "code",
   "execution_count": 33,
   "id": "2f4caea1",
   "metadata": {},
   "outputs": [],
   "source": [
    "prediction_price = model.predict(x_test)"
   ]
  },
  {
   "cell_type": "code",
   "execution_count": 34,
   "id": "99dfb6bf",
   "metadata": {},
   "outputs": [],
   "source": [
    "prediction_price = scaler.inverse_transform(prediction_price)"
   ]
  },
  {
   "cell_type": "code",
   "execution_count": 42,
   "id": "746f07a8",
   "metadata": {},
   "outputs": [
    {
     "data": {
      "image/png": "[encoded data removed]",
      "text/plain": [
       "<Figure size 432x288 with 1 Axes>"
      ]
     },
     "metadata": {
      "needs_background": "light"
     },
     "output_type": "display_data"
    }
   ],
   "source": [
    "plt.plot(actual_price, color = 'red',label= 'Actual Prices')\n",
    "plt.plot(prediction_price, color = 'green',label= 'Actual Prices')\n",
    "plt.title(f'{crypto}price prediction')\n",
    "plt.xlabel('Time')\n",
    "plt.ylabel('Price')\n",
    "plt.legend(loc='upper left')\n",
    "plt.show()"
   ]
  },
  {
   "cell_type": "markdown",
   "id": "9ebdc65c",
   "metadata": {},
   "source": [
    "# Predict Next Day :"
   ]
  },
  {
   "cell_type": "code",
   "execution_count": 43,
   "id": "a0c685dc",
   "metadata": {},
   "outputs": [],
   "source": [
    "real_data = [model_inputs[len(model_inputs) + 1 -pred_days:len(model_inputs) + 1, 0]]"
   ]
  },
  {
   "cell_type": "code",
   "execution_count": 44,
   "id": "08542505",
   "metadata": {},
   "outputs": [],
   "source": [
    "real_data = np.array(real_data)"
   ]
  },
  {
   "cell_type": "code",
   "execution_count": 45,
   "id": "b14d9a7c",
   "metadata": {},
   "outputs": [],
   "source": [
    "real_data = np.reshape(x_test,(x_test.shape[0],x_test.shape[1], 1))"
   ]
  },
  {
   "cell_type": "code",
   "execution_count": 46,
   "id": "faed7e65",
   "metadata": {},
   "outputs": [],
   "source": [
    "prediction = model.predict(real_data)"
   ]
  },
  {
   "cell_type": "code",
   "execution_count": 47,
   "id": "a31936a7",
   "metadata": {},
   "outputs": [],
   "source": [
    "prediction = scaler.inverse_transform(prediction)"
   ]
  },
  {
   "cell_type": "code",
   "execution_count": 48,
   "id": "8251b706",
   "metadata": {},
   "outputs": [
    {
     "name": "stdout",
     "output_type": "stream",
     "text": [
      "Today's Price =  [1640281.1] INR\n"
     ]
    }
   ],
   "source": [
    "print(\"Today's Price = \",prediction[-1],\"INR\")"
   ]
  }
 ],
 "metadata": {
  "kernelspec": {
   "display_name": "Python 3 (ipykernel)",
   "language": "python",
   "name": "python3"
  },
  "language_info": {
   "codemirror_mode": {
    "name": "ipython",
    "version": 3
   },
   "file_extension": ".py",
   "mimetype": "text/x-python",
   "name": "python",
   "nbconvert_exporter": "python",
   "pygments_lexer": "ipython3",
   "version": "3.9.7"
  }
 },
 "nbformat": 4,
 "nbformat_minor": 5
}
